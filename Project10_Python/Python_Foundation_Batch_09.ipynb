{
  "nbformat": 4,
  "nbformat_minor": 0,
  "metadata": {
    "colab": {
      "provenance": [],
      "toc_visible": true
    },
    "kernelspec": {
      "name": "python3",
      "display_name": "Python 3"
    },
    "language_info": {
      "name": "python"
    }
  },
  "cells": [
    {
      "cell_type": "markdown",
      "source": [
        "# **Hello World**\n",
        "\n",
        "Today we're learning Python for beginner data analytics.\n",
        "\n",
        "Five key topics that we need to know\n",
        "- variable\n",
        "- data type\n",
        "- data structure\n",
        "- control flow\n",
        "- function"
      ],
      "metadata": {
        "id": "OiM8WxBuDO2J"
      }
    },
    {
      "cell_type": "code",
      "source": [
        "print (\"hello world\")"
      ],
      "metadata": {
        "colab": {
          "base_uri": "https://localhost:8080/"
        },
        "id": "fufWCLPtDrFV",
        "outputId": "35dc5a79-4b40-4b6b-ee70-307e23146f03"
      },
      "execution_count": null,
      "outputs": [
        {
          "output_type": "stream",
          "name": "stdout",
          "text": [
            "hello world\n"
          ]
        }
      ]
    },
    {
      "cell_type": "code",
      "source": [
        "print (\"run me!\")"
      ],
      "metadata": {
        "colab": {
          "base_uri": "https://localhost:8080/"
        },
        "id": "CuUpEwOkDuGY",
        "outputId": "aab5e19f-e217-444e-a929-a8430b2c00af"
      },
      "execution_count": null,
      "outputs": [
        {
          "output_type": "stream",
          "name": "stdout",
          "text": [
            "run me!\n"
          ]
        }
      ]
    },
    {
      "cell_type": "code",
      "source": [
        "print (1 + 1)"
      ],
      "metadata": {
        "colab": {
          "base_uri": "https://localhost:8080/"
        },
        "id": "M5nNOe_WDz1i",
        "outputId": "71ae5feb-9103-46b4-cd5d-0e49237f4f1b"
      },
      "execution_count": null,
      "outputs": [
        {
          "output_type": "stream",
          "name": "stdout",
          "text": [
            "2\n"
          ]
        }
      ]
    },
    {
      "cell_type": "markdown",
      "source": [
        "##List\n"
      ],
      "metadata": {
        "id": "kI4y7VY6D5Ga"
      }
    },
    {
      "cell_type": "code",
      "source": [
        "movies = [\"The Dark Knight\" , \"Superman\" , \"Beekeper\"]\n",
        "\n",
        "for movie in movies:\n",
        "    print(movie)"
      ],
      "metadata": {
        "colab": {
          "base_uri": "https://localhost:8080/"
        },
        "id": "3-6wloJ_D7Jy",
        "outputId": "fc0ef321-0547-4780-a15d-cdc08b170e97"
      },
      "execution_count": null,
      "outputs": [
        {
          "output_type": "stream",
          "name": "stdout",
          "text": [
            "The Dark Knight\n",
            "Superman\n",
            "Beekeper\n"
          ]
        }
      ]
    },
    {
      "cell_type": "code",
      "source": [
        "movies = movies + [\"Titanic\",\"Avatar\"]\n",
        "print(movies)"
      ],
      "metadata": {
        "colab": {
          "base_uri": "https://localhost:8080/"
        },
        "id": "fnlHclXrEbQR",
        "outputId": "6522c37f-f337-438a-83fb-71644bfb7910"
      },
      "execution_count": null,
      "outputs": [
        {
          "output_type": "stream",
          "name": "stdout",
          "text": [
            "['The Dark Knight', 'Superman', 'Beekeper', 'Titanic', 'Avatar']\n"
          ]
        }
      ]
    },
    {
      "cell_type": "code",
      "source": [
        "int(\"150\") * 2"
      ],
      "metadata": {
        "colab": {
          "base_uri": "https://localhost:8080/"
        },
        "id": "O7yUCzm9Ek6W",
        "outputId": "58b81c73-5c24-448b-b201-0944046ee717"
      },
      "execution_count": null,
      "outputs": [
        {
          "output_type": "execute_result",
          "data": {
            "text/plain": [
              "300"
            ]
          },
          "metadata": {},
          "execution_count": 90
        }
      ]
    },
    {
      "cell_type": "code",
      "source": [
        "# python dynamic typed language\n",
        "x = True\n",
        "type(x)"
      ],
      "metadata": {
        "colab": {
          "base_uri": "https://localhost:8080/"
        },
        "id": "6uT2DngZE3ut",
        "outputId": "5177c0aa-2d46-4a74-cdcd-3925abb90655"
      },
      "execution_count": null,
      "outputs": [
        {
          "output_type": "execute_result",
          "data": {
            "text/plain": [
              "bool"
            ]
          },
          "metadata": {},
          "execution_count": 91
        }
      ]
    },
    {
      "cell_type": "code",
      "source": [
        "# python type hint\n",
        "name: str = \"toy\"\n",
        "gpa: float = 3.45\n",
        "age: int = 36\n",
        "movie_lover: bool = True\n",
        "\n",
        "print (name,gpa,age,movie_lover)"
      ],
      "metadata": {
        "colab": {
          "base_uri": "https://localhost:8080/"
        },
        "id": "saEacL2RE9h9",
        "outputId": "12336a15-cc46-4c42-f80f-fb528fdd702e"
      },
      "execution_count": null,
      "outputs": [
        {
          "output_type": "stream",
          "name": "stdout",
          "text": [
            "toy 3.45 36 True\n"
          ]
        }
      ]
    },
    {
      "cell_type": "code",
      "source": [
        "name:str=100\n",
        "print(name)"
      ],
      "metadata": {
        "colab": {
          "base_uri": "https://localhost:8080/"
        },
        "id": "n-DzenZeFffe",
        "outputId": "c9ccd132-8364-4e71-8e36-5ff862c787c1"
      },
      "execution_count": null,
      "outputs": [
        {
          "output_type": "stream",
          "name": "stdout",
          "text": [
            "100\n"
          ]
        }
      ]
    },
    {
      "cell_type": "code",
      "source": [],
      "metadata": {
        "id": "R38wEEstFlln"
      },
      "execution_count": null,
      "outputs": []
    },
    {
      "cell_type": "markdown",
      "source": [
        "## Tuple"
      ],
      "metadata": {
        "id": "zjDJMixSjsX7"
      }
    },
    {
      "cell_type": "code",
      "source": [
        "friends = (\"toy\", \"john\",\"doe\")\n",
        "type(friends)\n"
      ],
      "metadata": {
        "colab": {
          "base_uri": "https://localhost:8080/"
        },
        "id": "nPMhRxPcFycz",
        "outputId": "d112492c-a3de-4d24-a468-c4b3dbb636ac"
      },
      "execution_count": null,
      "outputs": [
        {
          "output_type": "execute_result",
          "data": {
            "text/plain": [
              "tuple"
            ]
          },
          "metadata": {},
          "execution_count": 16
        }
      ]
    },
    {
      "cell_type": "code",
      "source": [
        "for name in friends:\n",
        "    print(\"hi! \" + name)"
      ],
      "metadata": {
        "colab": {
          "base_uri": "https://localhost:8080/"
        },
        "id": "jeuxROz3GFG-",
        "outputId": "f2c31e1d-a260-435f-f851-01c901d9d0ab"
      },
      "execution_count": null,
      "outputs": [
        {
          "output_type": "stream",
          "name": "stdout",
          "text": [
            "hi! toy\n",
            "hi! john\n",
            "hi! doe\n"
          ]
        }
      ]
    },
    {
      "cell_type": "code",
      "source": [
        "friends.count(\"toy\")"
      ],
      "metadata": {
        "colab": {
          "base_uri": "https://localhost:8080/"
        },
        "id": "RGdszZwlGZTT",
        "outputId": "e2ffd4e4-a189-4ae6-b752-e79db9c011b0"
      },
      "execution_count": null,
      "outputs": [
        {
          "output_type": "execute_result",
          "data": {
            "text/plain": [
              "1"
            ]
          },
          "metadata": {},
          "execution_count": 20
        }
      ]
    },
    {
      "cell_type": "code",
      "source": [
        "## tuple unpacking\n",
        "age_friends =(35,30,28)\n",
        "\n",
        "toy,john,doe = age_friends\n",
        "\n",
        "print (toy,john,doe)"
      ],
      "metadata": {
        "colab": {
          "base_uri": "https://localhost:8080/"
        },
        "id": "mbGT2CbBGpQd",
        "outputId": "5249d5bf-5f8b-4596-bab3-2156282f895f"
      },
      "execution_count": null,
      "outputs": [
        {
          "output_type": "stream",
          "name": "stdout",
          "text": [
            "35 30 28\n"
          ]
        }
      ]
    },
    {
      "cell_type": "code",
      "source": [],
      "metadata": {
        "id": "M3qacf4DG_6v"
      },
      "execution_count": null,
      "outputs": []
    },
    {
      "cell_type": "code",
      "source": [
        "## def new function that returns more than on value\n",
        "\n",
        "def add_two_numbs (x,y):\n",
        "    print (\"greeting\")\n",
        "    return x + y\n",
        "    print (\"Starting\")\n",
        "\n",
        "\n",
        "## test function\n",
        "result = add_two_numbs (10,15)\n",
        "\n",
        "print (result)"
      ],
      "metadata": {
        "colab": {
          "base_uri": "https://localhost:8080/"
        },
        "id": "kbefi-kqHLBY",
        "outputId": "215ca4fe-d1c0-42d0-b045-12688f3baa38"
      },
      "execution_count": null,
      "outputs": [
        {
          "output_type": "stream",
          "name": "stdout",
          "text": [
            "greeting\n",
            "25\n"
          ]
        }
      ]
    },
    {
      "cell_type": "code",
      "source": [
        "def create_books():\n",
        "    return (\"BSM\",\"MMS\",\"Coach Builder\")\n",
        "\n",
        "b1,b2,b3 = create_books()\n",
        "b1,b2,_ = create_books()\n",
        "print (b1,b2)"
      ],
      "metadata": {
        "colab": {
          "base_uri": "https://localhost:8080/"
        },
        "id": "QOdHRzD0HmQ9",
        "outputId": "797abbcd-af0c-4380-9ba5-69e1dd9c1c97"
      },
      "execution_count": null,
      "outputs": [
        {
          "output_type": "stream",
          "name": "stdout",
          "text": [
            "BSM MMS\n"
          ]
        }
      ]
    },
    {
      "cell_type": "markdown",
      "source": [
        "## Dictionary\n",
        "\n",
        "Key-value-pair"
      ],
      "metadata": {
        "id": "2zjyy0uwSzXm"
      }
    },
    {
      "cell_type": "code",
      "source": [
        "customer01 = {\n",
        "    \"name\": \"toy\",\n",
        "    \"age\" : 36,\n",
        "    \"city\" : \"Bangkok\"\n",
        "}"
      ],
      "metadata": {
        "id": "95b82UOwIp1F"
      },
      "execution_count": null,
      "outputs": []
    },
    {
      "cell_type": "code",
      "source": [
        "customer01"
      ],
      "metadata": {
        "colab": {
          "base_uri": "https://localhost:8080/"
        },
        "id": "_Q99zQR2JDMr",
        "outputId": "e83a53da-41df-4322-e089-d4b7d1d99901"
      },
      "execution_count": null,
      "outputs": [
        {
          "output_type": "execute_result",
          "data": {
            "text/plain": [
              "{'name': 'toy', 'age': 36, 'city': 'Bangkok'}"
            ]
          },
          "metadata": {},
          "execution_count": 31
        }
      ]
    },
    {
      "cell_type": "code",
      "source": [
        "customer01[\"name\"]"
      ],
      "metadata": {
        "colab": {
          "base_uri": "https://localhost:8080/",
          "height": 35
        },
        "id": "o65CzJftJHrp",
        "outputId": "84903a66-32f1-47cf-af8e-9e514d95bd3b"
      },
      "execution_count": null,
      "outputs": [
        {
          "output_type": "execute_result",
          "data": {
            "text/plain": [
              "'toy'"
            ],
            "application/vnd.google.colaboratory.intrinsic+json": {
              "type": "string"
            }
          },
          "metadata": {},
          "execution_count": 32
        }
      ]
    },
    {
      "cell_type": "code",
      "source": [
        "## dic is mutable object\n",
        "customer01[\"name\"] = \"John Wick\"\n",
        "\n",
        "print (customer01)"
      ],
      "metadata": {
        "colab": {
          "base_uri": "https://localhost:8080/"
        },
        "id": "PCyjPEZaJRZV",
        "outputId": "f81111cb-30c6-4364-9ede-ea00124792d7"
      },
      "execution_count": null,
      "outputs": [
        {
          "output_type": "stream",
          "name": "stdout",
          "text": [
            "{'name': 'John Wick', 'age': 36, 'city': 'Bangkok'}\n"
          ]
        }
      ]
    },
    {
      "cell_type": "code",
      "source": [
        "## Add new key"
      ],
      "metadata": {
        "id": "nZU5pdGZJVQj"
      },
      "execution_count": null,
      "outputs": []
    },
    {
      "cell_type": "code",
      "source": [
        "customer01[\"country\"] = \"United States\"\n",
        "customer01"
      ],
      "metadata": {
        "colab": {
          "base_uri": "https://localhost:8080/"
        },
        "id": "RvMHovg4JseZ",
        "outputId": "bc5a7ce2-8e05-45ec-93c7-ddbefc7caa36"
      },
      "execution_count": null,
      "outputs": [
        {
          "output_type": "execute_result",
          "data": {
            "text/plain": [
              "{'name': 'John Wick', 'age': 36, 'city': 'Bangkok', 'country': 'United States'}"
            ]
          },
          "metadata": {},
          "execution_count": 38
        }
      ]
    },
    {
      "cell_type": "code",
      "source": [
        "customer01[\"name\"]"
      ],
      "metadata": {
        "colab": {
          "base_uri": "https://localhost:8080/"
        },
        "id": "BJ7bZ3tMJ1Go",
        "outputId": "7b29f2a8-50f7-4d18-ec7f-de8ce5bd53b5"
      },
      "execution_count": null,
      "outputs": [
        {
          "output_type": "execute_result",
          "data": {
            "text/plain": [
              "dict_keys(['name', 'age', 'city', 'country'])"
            ]
          },
          "metadata": {},
          "execution_count": 39
        }
      ]
    },
    {
      "cell_type": "code",
      "source": [
        "for item in customer01.items():\n",
        "    print(item[0],item[1])"
      ],
      "metadata": {
        "colab": {
          "base_uri": "https://localhost:8080/"
        },
        "id": "T6EbIIUuKDFp",
        "outputId": "dee25239-0196-481b-c801-9869b9ec4f24"
      },
      "execution_count": null,
      "outputs": [
        {
          "output_type": "stream",
          "name": "stdout",
          "text": [
            "name John Wick\n",
            "age 36\n",
            "city Bangkok\n",
            "country United States\n"
          ]
        }
      ]
    },
    {
      "cell_type": "code",
      "source": [
        "customer01.get(\"name\")"
      ],
      "metadata": {
        "colab": {
          "base_uri": "https://localhost:8080/",
          "height": 35
        },
        "id": "ANzhN4dkKcYN",
        "outputId": "a83a4a90-5c75-4dca-c5db-e67298c26e9e"
      },
      "execution_count": null,
      "outputs": [
        {
          "output_type": "execute_result",
          "data": {
            "text/plain": [
              "'John Wick'"
            ],
            "application/vnd.google.colaboratory.intrinsic+json": {
              "type": "string"
            }
          },
          "metadata": {},
          "execution_count": 42
        }
      ]
    },
    {
      "cell_type": "code",
      "source": [
        "# delete key\n",
        "customer01.pop(\"country\")\n",
        "customer01"
      ],
      "metadata": {
        "colab": {
          "base_uri": "https://localhost:8080/"
        },
        "id": "rDlgWtAmK5gs",
        "outputId": "bcd47a7c-69e0-4d5d-825f-2a4e8c0f7882"
      },
      "execution_count": null,
      "outputs": [
        {
          "output_type": "execute_result",
          "data": {
            "text/plain": [
              "{'name': 'John Wick', 'age': 36, 'city': 'Bangkok'}"
            ]
          },
          "metadata": {},
          "execution_count": 43
        }
      ]
    },
    {
      "cell_type": "code",
      "source": [
        "##Set\n",
        "## Set in Python is unique\n",
        "\n",
        "numbers = [1,1,2,3,4,5,5,6,9,9]\n",
        "set(numbers)\n",
        "\n"
      ],
      "metadata": {
        "id": "-LZ7xG4BLR3m",
        "colab": {
          "base_uri": "https://localhost:8080/"
        },
        "outputId": "ce1f25cb-15c3-4f20-d9fc-934d390bd9c9"
      },
      "execution_count": null,
      "outputs": [
        {
          "output_type": "execute_result",
          "data": {
            "text/plain": [
              "{1, 2, 3, 4, 5, 6, 9}"
            ]
          },
          "metadata": {},
          "execution_count": 104
        }
      ]
    },
    {
      "cell_type": "code",
      "source": [
        "set_a = {\"banana\",\"apple\"}\n",
        "set_b = {\"banana\",\"orange\"}\n",
        "\n",
        "\n",
        "#union\n",
        "set_a | set_b\n",
        "\n",
        "#intersect\n",
        "set_a & set_b\n"
      ],
      "metadata": {
        "colab": {
          "base_uri": "https://localhost:8080/"
        },
        "id": "p2Q5qvNcMFOY",
        "outputId": "510c014c-a08c-4b0a-8c9c-3fa209e4f86d"
      },
      "execution_count": null,
      "outputs": [
        {
          "output_type": "execute_result",
          "data": {
            "text/plain": [
              "{'banana'}"
            ]
          },
          "metadata": {},
          "execution_count": 52
        }
      ]
    },
    {
      "cell_type": "markdown",
      "source": [
        "## Control Flow\n",
        "\n",
        "- if\n",
        "- for\n",
        "- while"
      ],
      "metadata": {
        "id": "Z_YZxpPVM-d8"
      }
    },
    {
      "cell_type": "code",
      "source": [
        "score = 95\n",
        "if score > 80:\n",
        "    print(\"passed\")\n",
        "else:\n",
        "    print(\"failed\")"
      ],
      "metadata": {
        "colab": {
          "base_uri": "https://localhost:8080/"
        },
        "id": "cwFt6LVfNLXw",
        "outputId": "a076cf5a-1e3e-49f6-f541-5029c02015e1"
      },
      "execution_count": null,
      "outputs": [
        {
          "output_type": "stream",
          "name": "stdout",
          "text": [
            "passed\n"
          ]
        }
      ]
    },
    {
      "cell_type": "code",
      "source": [
        "# if else\n",
        "score = 75\n",
        "if score >= 80:\n",
        "    print(\"A\")\n",
        "elif score >= 70:\n",
        "    print(\"B\")\n",
        "elif score >=60:\n",
        "    print(\"C\")\n",
        "else:\n",
        "    print(\"Failed\")"
      ],
      "metadata": {
        "id": "48pJZZtJN9VF",
        "colab": {
          "base_uri": "https://localhost:8080/"
        },
        "outputId": "99552d44-1470-4d19-f2a8-88f56bd95545"
      },
      "execution_count": null,
      "outputs": [
        {
          "output_type": "stream",
          "name": "stdout",
          "text": [
            "B\n"
          ]
        }
      ]
    },
    {
      "cell_type": "code",
      "source": [
        "#if else function\n",
        "def grading(score):\n",
        "   if score >= 80:\n",
        "     return \"A\"\n",
        "   elif score >= 70:\n",
        "     return \"B\"\n",
        "   elif score >= 60:\n",
        "     return \"C\"\n",
        "   else:\n",
        "     return \"Failed\""
      ],
      "metadata": {
        "id": "amL3_X0DOfP6"
      },
      "execution_count": null,
      "outputs": []
    },
    {
      "cell_type": "code",
      "source": [
        "grade = grading(85)\n",
        "print(grade)\n"
      ],
      "metadata": {
        "id": "rGzRbhfsO0Ua",
        "colab": {
          "base_uri": "https://localhost:8080/"
        },
        "outputId": "c84d1a61-9dd3-4f9c-c710-f74574351599"
      },
      "execution_count": null,
      "outputs": [
        {
          "output_type": "stream",
          "name": "stdout",
          "text": [
            "A\n"
          ]
        }
      ]
    },
    {
      "cell_type": "code",
      "source": [
        "score = 85\n",
        "\n",
        "print(\"passed\") if score >= 80 else print (\"failed\")\n",
        "\n",
        "if score >= 80:\n",
        "    print (\"passed\")\n",
        "else:\n",
        "    print (\"failed\")\n"
      ],
      "metadata": {
        "colab": {
          "base_uri": "https://localhost:8080/"
        },
        "id": "juPznzoJoMkI",
        "outputId": "2cb8f607-1db3-42c0-ed5a-c4f5eddb1b04"
      },
      "execution_count": null,
      "outputs": [
        {
          "output_type": "stream",
          "name": "stdout",
          "text": [
            "passed\n",
            "passed\n"
          ]
        }
      ]
    },
    {
      "cell_type": "code",
      "source": [
        "# for loop\n",
        "artists = [\"Taylor  Swift\",\n",
        "           \"Spcie Girals\",\n",
        "           \"Backstreet Boys\"]\n",
        "\n",
        "\n",
        "for artist in artists:\n",
        "    first_name = artist.split(\" \")[0].upper()\n",
        "    if first_name == \"TAYLOR\":\n",
        "        print (\"Greeeeeed! I'm going to see you in Japan\")\n",
        "    else:\n",
        "        print(first_name)"
      ],
      "metadata": {
        "colab": {
          "base_uri": "https://localhost:8080/"
        },
        "id": "LQADrpGKPQKR",
        "outputId": "daeeafae-4623-4b94-d188-8b632b796ad3"
      },
      "execution_count": null,
      "outputs": [
        {
          "output_type": "stream",
          "name": "stdout",
          "text": [
            "Greeeeeed! I'm going to see you in Japan\n",
            "SPCIE\n",
            "BACKSTREET\n"
          ]
        }
      ]
    },
    {
      "cell_type": "code",
      "source": [
        "# cost of program: time\n",
        "nums = list(range(1,101)) # n - 1\n",
        "print (nums)\n"
      ],
      "metadata": {
        "colab": {
          "base_uri": "https://localhost:8080/"
        },
        "id": "cfpMn_nARBLw",
        "outputId": "6030bf65-4779-4f39-ebfa-0dd22e875ccd"
      },
      "execution_count": null,
      "outputs": [
        {
          "output_type": "stream",
          "name": "stdout",
          "text": [
            "[1, 2, 3, 4, 5, 6, 7, 8, 9, 10, 11, 12, 13, 14, 15, 16, 17, 18, 19, 20, 21, 22, 23, 24, 25, 26, 27, 28, 29, 30, 31, 32, 33, 34, 35, 36, 37, 38, 39, 40, 41, 42, 43, 44, 45, 46, 47, 48, 49, 50, 51, 52, 53, 54, 55, 56, 57, 58, 59, 60, 61, 62, 63, 64, 65, 66, 67, 68, 69, 70, 71, 72, 73, 74, 75, 76, 77, 78, 79, 80, 81, 82, 83, 84, 85, 86, 87, 88, 89, 90, 91, 92, 93, 94, 95, 96, 97, 98, 99, 100]\n"
          ]
        }
      ]
    },
    {
      "cell_type": "code",
      "source": [
        "def sum_manual(nums):\n",
        "    result = 0\n",
        "    for num in nums:\n",
        "        result = result + num\n",
        "    return result\n",
        "\n",
        "sum_manual(nums)"
      ],
      "metadata": {
        "colab": {
          "base_uri": "https://localhost:8080/"
        },
        "id": "an6OH3o5RQ4h",
        "outputId": "70b91cec-f6ee-45e6-c759-c4901cf39431"
      },
      "execution_count": null,
      "outputs": [
        {
          "output_type": "execute_result",
          "data": {
            "text/plain": [
              "5050"
            ]
          },
          "metadata": {},
          "execution_count": 72
        }
      ]
    },
    {
      "cell_type": "code",
      "source": [
        "##(ต้น + ปลาย) * (ปลาย / 2)\n",
        "def sum_shortcut (nums):\n",
        "    return (nums[0] + nums [-1]) * nums[-1] / 2\n",
        "\n",
        "sum_shortcut(nums)"
      ],
      "metadata": {
        "colab": {
          "base_uri": "https://localhost:8080/"
        },
        "id": "goDGkvVqRoon",
        "outputId": "101be4b8-111e-4fc8-ae34-115e4de6448f"
      },
      "execution_count": null,
      "outputs": [
        {
          "output_type": "execute_result",
          "data": {
            "text/plain": [
              "5050.0"
            ]
          },
          "metadata": {},
          "execution_count": 74
        }
      ]
    },
    {
      "cell_type": "code",
      "source": [
        "# Whille Loop\n",
        "\n",
        "n=1\n",
        "while n < 5 :\n",
        "     print (\"hi!\")\n",
        "     n = n + 1"
      ],
      "metadata": {
        "colab": {
          "base_uri": "https://localhost:8080/"
        },
        "id": "JV7vDDqPSRUs",
        "outputId": "40d6bdf5-2648-4bd6-9a58-1bd72ed74615"
      },
      "execution_count": null,
      "outputs": [
        {
          "output_type": "stream",
          "name": "stdout",
          "text": [
            "hi!\n",
            "hi!\n",
            "hi!\n",
            "hi!\n"
          ]
        }
      ]
    },
    {
      "cell_type": "code",
      "source": [
        "def game():\n",
        "    print(\"This is a test game!\")\n",
        "    while True:\n",
        "        user_inp = input (\"Do you want to continue or stop?\")\n",
        "        if user_inp == \"stop\":\n",
        "            print (\"Game stop!\")\n",
        "            break\n",
        "        else:\n",
        "            print (\"Let's continue.\")\n",
        "\n",
        "game()"
      ],
      "metadata": {
        "colab": {
          "base_uri": "https://localhost:8080/"
        },
        "id": "P5rwhSrjS9T-",
        "outputId": "671e7463-cc79-4284-9278-7bd4df1923a1"
      },
      "execution_count": null,
      "outputs": [
        {
          "output_type": "stream",
          "name": "stdout",
          "text": [
            "This is a test game!\n",
            "Do you want to continue or stop?continue\n",
            "Let's continue.\n",
            "Do you want to continue or stop?continue\n",
            "Let's continue.\n",
            "Do you want to continue or stop?stop\n",
            "Game stop!\n"
          ]
        }
      ]
    },
    {
      "cell_type": "markdown",
      "source": [
        "## Object Oriented proramming"
      ],
      "metadata": {
        "id": "NAopqaJbT5wP"
      }
    },
    {
      "cell_type": "code",
      "source": [
        "class Book:\n",
        "   # pass  #do nothing\n",
        "   def __init__(self,name,year,author):\n",
        "    self.name = name\n",
        "    self.year = year\n",
        "    self.author = author"
      ],
      "metadata": {
        "id": "Qrowhch1T9R5"
      },
      "execution_count": null,
      "outputs": []
    },
    {
      "cell_type": "code",
      "source": [
        "book1 = Book(\"Thik lik a freak\",2010,\"Dubner\")\n",
        "book2 = Book(\"Business Made Simple\",2010,\"Donald Miller\")\n",
        "book3 = Book(\"Data Science for Business\",2015,\"Willey\")"
      ],
      "metadata": {
        "id": "1bomU4RNUNUL"
      },
      "execution_count": null,
      "outputs": []
    },
    {
      "cell_type": "code",
      "source": [
        "# dot notion is a way to access the attribute and methods of each method of different object classes\n",
        "print (f\"My book favorite are {book1.name},{book2.name} and {book3.name}\")"
      ],
      "metadata": {
        "id": "1FdJidzmUQzo",
        "colab": {
          "base_uri": "https://localhost:8080/"
        },
        "outputId": "01891f6d-654a-4e57-a7f9-35004c55cd2c"
      },
      "execution_count": null,
      "outputs": [
        {
          "output_type": "stream",
          "name": "stdout",
          "text": [
            "My book favorite are Thik lik a freak,Business Made Simple and Data Science for Business\n"
          ]
        }
      ]
    },
    {
      "cell_type": "code",
      "source": [
        "#from importlib.util import spec_from_file_location\n",
        "#OOP = Object Oriented Programming\n",
        "#class dog\n",
        "\n",
        "class Dog:\n",
        "    def __init__(self,name,age,specie):\n",
        "        self.name = name\n",
        "        self.age = age\n",
        "        self.specie = specie\n",
        "\n",
        "    def sitting(self):\n",
        "        print (\"I'm sitting on the bed\")\n",
        "\n",
        "    def playing(self):\n",
        "        print (\"I play with my owner and bark\")\n",
        "\n",
        "dog1 = Dog(\"andy\",3,\"chihuahua\")\n",
        "print (dog1.name,dog1.age,dog1.specie)\n",
        "dog1.sitting()\n",
        "dog1.playing()\n",
        "\n"
      ],
      "metadata": {
        "id": "0DzSj51lVw8B",
        "colab": {
          "base_uri": "https://localhost:8080/"
        },
        "outputId": "ba84e2a9-cc30-4a74-bf6a-7999e6887a4e"
      },
      "execution_count": null,
      "outputs": [
        {
          "output_type": "stream",
          "name": "stdout",
          "text": [
            "andy 3 chihuahua\n",
            "I'm sitting on the bed\n",
            "I play with my owner and bark\n"
          ]
        }
      ]
    }
  ]
}